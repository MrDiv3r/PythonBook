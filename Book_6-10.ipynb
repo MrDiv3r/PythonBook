{
 "cells": [
  {
   "cell_type": "markdown",
   "metadata": {},
   "source": [
    "### 6. Словари - {'ключ_1' : 'значение_1', ...., 'ключ_N' : 'значение_N'}"
   ]
  },
  {
   "cell_type": "code",
   "execution_count": 1,
   "metadata": {},
   "outputs": [
    {
     "name": "stdout",
     "output_type": "stream",
     "text": [
      "red\n",
      "5\n"
     ]
    }
   ],
   "source": [
    "ver = {'color' : 'red', 'point' : 5}\n",
    "print(ver['color'])\n",
    "print(ver['point'])"
   ]
  },
  {
   "cell_type": "markdown",
   "metadata": {},
   "source": [
    "Добавление новых элементов в словарь"
   ]
  },
  {
   "cell_type": "code",
   "execution_count": 9,
   "metadata": {},
   "outputs": [
    {
     "name": "stdout",
     "output_type": "stream",
     "text": [
      "{'color': 'red', 'points': 5}\n",
      "{'color': 'red', 'points': 5, 'x_coord': 10, 'y_coord': 15}\n",
      "15\n",
      "{'color': 'green', 'points': 5, 'x_coord': 10, 'y_coord': 15}\n"
     ]
    }
   ],
   "source": [
    "slovar = {'color' : 'red', 'points' : 5}\n",
    "print(slovar)\n",
    "slovar['x_coord'] = 10 # добавление в словарь x_coord = 10\n",
    "slovar['y_coord'] = 15 # добавление в словарь y_coord = 15\n",
    "print(slovar)\n",
    "print(slovar['y_coord']) # вывод значения y_coord из словаря\n",
    "slovar['color'] = 'green' # замена значения на green\n",
    "print(slovar)"
   ]
  },
  {
   "cell_type": "code",
   "execution_count": 26,
   "metadata": {},
   "outputs": [
    {
     "name": "stdout",
     "output_type": "stream",
     "text": [
      "Start x_position = 0\n",
      "New x_position = 3\n"
     ]
    }
   ],
   "source": [
    "alien_0 = {'x_position' : 0, 'y_position' : 25, 'speed' : 'medium'}\n",
    "alien_0['speed'] = input()\n",
    "\n",
    "if alien_0['speed'] == 'slow':   # проверка на значение ключа speed\n",
    "    x_increment = 1\n",
    "elif alien_0['speed'] == 'medium':\n",
    "    x_increment = 2\n",
    "else:\n",
    "    x_increment = 3\n",
    "\n",
    "print('Start x_position = ' + str(alien_0['x_position']))\n",
    "alien_0['x_position'] = alien_0['x_position'] + x_increment # приращение и перезапись значения для ключа x_position \n",
    "print('New x_position = ' + str(alien_0['x_position']))     # вывод нового значения"
   ]
  },
  {
   "cell_type": "code",
   "execution_count": 4,
   "metadata": {},
   "outputs": [
    {
     "name": "stdout",
     "output_type": "stream",
     "text": [
      "{'color': 'red', 'points': 5}\n",
      "{'color': 'red', 'points': 5, 'x_coord': 10, 'y_coord': 15}\n",
      "15\n"
     ]
    }
   ],
   "source": [
    "slovar = {'color' : 'red', 'points' : 5}\n",
    "print(slovar)\n",
    "slovar['x_coord'] = 10 # добавление в словарь x_coord = 10\n",
    "slovar['y_coord'] = 15 # добавление в словарь y_coord = 15\n",
    "print(slovar)\n",
    "print(slovar['y_coord']) # вывод значения y_coord из словаря"
   ]
  },
  {
   "cell_type": "markdown",
   "metadata": {},
   "source": [
    "6-3. Глоссарий: словари Python могут использоваться для моделирования «настоящего» словаря"
   ]
  },
  {
   "cell_type": "code",
   "execution_count": 30,
   "metadata": {},
   "outputs": [
    {
     "name": "stdout",
     "output_type": "stream",
     "text": [
      "Список - можно менять и добавлять новые элементы\n",
      "Картеж - не изменен, можно только обращаться к нему\n",
      "Словарь - можно делать все тоже самое что и со  списком\n",
      "\n",
      "Key: spisok\n",
      "Value: Список - можно менять и добавлять новые элементы\n",
      "\n",
      "Key: karteg\n",
      "Value: Картеж - не изменен, можно только обращаться к нему\n",
      "\n",
      "Key: slovar\n",
      "Value: Словарь - можно делать все тоже самое что и со  списком\n"
     ]
    }
   ],
   "source": [
    "glosariy = {\n",
    "    'spisok' : 'Список - можно менять и добавлять новые элементы',\n",
    "    'karteg' : 'Картеж - не изменен, можно только обращаться к нему',\n",
    "    'slovar' : 'Словарь - можно делать все тоже самое что и со  списком',\n",
    "}\n",
    "print(glosariy['spisok'])\n",
    "print(glosariy['karteg'])\n",
    "print(glosariy['slovar'])\n",
    "for k, v in glosariy.items(): # использование метода .items()\n",
    "    print('\\nKey: ' + k)\n",
    "    print('Value: ' + v)"
   ]
  },
  {
   "cell_type": "markdown",
   "metadata": {},
   "source": [
    "6-5. Реки: создайте словарь с тремя большими реками и странами, по которым протекает каждая река. Одна из возможных пар «ключ—значение» — ‘nile’: ‘egypt’."
   ]
  },
  {
   "cell_type": "code",
   "execution_count": 36,
   "metadata": {},
   "outputs": [
    {
     "name": "stdout",
     "output_type": "stream",
     "text": [
      "The Nile runs through Egypt\n",
      "The Amazonka runs through Brazil\n",
      "The Missisipi runs through Usa\n",
      "Nile\n",
      "Amazonka\n",
      "Missisipi\n",
      "Egypt\n",
      "Brazil\n",
      "USA\n"
     ]
    }
   ],
   "source": [
    "glosariy = {\n",
    "    'nile' : 'egypt',\n",
    "    'amazonka' : 'brazil',\n",
    "    'missisipi' : 'usa',\n",
    "}\n",
    "for k, v in glosariy.items():\n",
    "    print('The ' + k.title() + ' runs through ' + v.title())\n",
    "for k in glosariy.keys():\n",
    "    print(k.title())\n",
    "for v in glosariy.values():\n",
    "    if v == 'usa':\n",
    "        print(v.upper())\n",
    "    else:    \n",
    "        print(v.title())"
   ]
  }
 ],
 "metadata": {
  "kernelspec": {
   "display_name": "Python 3",
   "language": "python",
   "name": "python3"
  },
  "language_info": {
   "codemirror_mode": {
    "name": "ipython",
    "version": 3
   },
   "file_extension": ".py",
   "mimetype": "text/x-python",
   "name": "python",
   "nbconvert_exporter": "python",
   "pygments_lexer": "ipython3",
   "version": "3.6.5"
  }
 },
 "nbformat": 4,
 "nbformat_minor": 2
}
