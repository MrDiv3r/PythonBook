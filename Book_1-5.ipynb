{
 "cells": [
  {
   "cell_type": "code",
   "execution_count": 1,
   "metadata": {},
   "outputs": [
    {
     "name": "stdout",
     "output_type": "stream",
     "text": [
      "Hello World!\n"
     ]
    }
   ],
   "source": [
    "msg = \"Hello World!\"\n",
    "print(msg)"
   ]
  },
  {
   "cell_type": "code",
   "execution_count": null,
   "metadata": {},
   "outputs": [],
   "source": []
  },
  {
   "cell_type": "code",
   "execution_count": 6,
   "metadata": {},
   "outputs": [
    {
     "name": "stdout",
     "output_type": "stream",
     "text": [
      "Hello World!\n",
      "LOL\n",
      "3\n"
     ]
    }
   ],
   "source": [
    "msg = \"  Hello World!   \"\n",
    "print(msg.strip())\n",
    "msg = \"LOL\"\n",
    "print(msg)\n",
    "print(len(msg))"
   ]
  },
  {
   "cell_type": "code",
   "execution_count": 18,
   "metadata": {},
   "outputs": [
    {
     "name": "stdout",
     "output_type": "stream",
     "text": [
      "Albert Einstein once said, \"A person who never made a \n",
      "mistake never tried anything new.\"\n"
     ]
    }
   ],
   "source": [
    "name = \"ERic\"\n",
    "print('Albert Einstein once said, \"A person who never made a \\nmistake never tried anything new.\"')"
   ]
  },
  {
   "cell_type": "code",
   "execution_count": 29,
   "metadata": {},
   "outputs": [
    {
     "name": "stdout",
     "output_type": "stream",
     "text": [
      "Albert Einsteinonce said, \"A person who never made a \n",
      "mistake never tried anything new.\"\n"
     ]
    }
   ],
   "source": [
    "famous_person = \"Albert Einstein\"\n",
    "msg = ('once said, \"A person who never made a \\nmistake never tried anything new.\"')\n",
    "print(famous_person + msg)"
   ]
  },
  {
   "cell_type": "code",
   "execution_count": 21,
   "metadata": {},
   "outputs": [
    {
     "name": "stdout",
     "output_type": "stream",
     "text": [
      "Happy 23rd Birthday!\n"
     ]
    }
   ],
   "source": [
    "age = 23\n",
    "message = \"Happy \" + str(age) + \"rd Birthday!\"\n",
    "print(message)"
   ]
  },
  {
   "cell_type": "code",
   "execution_count": 34,
   "metadata": {},
   "outputs": [
    {
     "name": "stdout",
     "output_type": "stream",
     "text": [
      "['0', '1', '2', '3']\n",
      "['0', '2', '3']\n",
      "['0', '3']\n",
      "2\n"
     ]
    }
   ],
   "source": [
    "\"\"\" \n",
    "Для чего может понадобиться метод pop()? Представьте, что мотоциклы в списке\n",
    "хранятся в хронологическом порядке в соответствии с датой их покупки. В таком\n",
    "случае команда pop() может использоваться для вывода сообщения о последнем\n",
    "купленном мотоцикле.\n",
    "\"\"\"\n",
    "ver = ['0', '1', '2', '3']\n",
    "print(ver)\n",
    "del ver[1]\n",
    "print(ver)\n",
    "verpop = ver.pop(1)\n",
    "print(ver)\n",
    "print(verpop)\n"
   ]
  },
  {
   "cell_type": "code",
   "execution_count": 40,
   "metadata": {},
   "outputs": [
    {
     "name": "stdout",
     "output_type": "stream",
     "text": [
      "['abc', 'brt', 'dcg', 'ftr']\n",
      "['abc', 'dcg', 'ftr', 'brt']\n",
      "['brt', 'ftr', 'dcg', 'abc']\n"
     ]
    },
    {
     "data": {
      "text/plain": [
       "4"
      ]
     },
     "execution_count": 40,
     "metadata": {},
     "output_type": "execute_result"
    }
   ],
   "source": [
    "ver =['abc', 'dcg', 'ftr', 'brt']\n",
    "print(sorted(ver))\n",
    "print(ver)\n",
    "ver.reverse()\n",
    "print(ver)\n",
    "len(ver)"
   ]
  },
  {
   "cell_type": "code",
   "execution_count": 31,
   "metadata": {},
   "outputs": [
    {
     "name": "stdout",
     "output_type": "stream",
     "text": [
      "['zxc', 'ui', 'll']\n",
      "zxc- элемент zxc\n",
      "ui- элемент ui\n",
      "ll- элемент ll\n"
     ]
    }
   ],
   "source": [
    "ver = ['zxc']\n",
    "ver.append(input())\n",
    "ver.append(input())\n",
    "print(ver)\n",
    "i=0\n",
    "for verib in ver:\n",
    "    print(verib + '- элемент ' + ver[i])\n",
    "    i+=1"
   ]
  },
  {
   "cell_type": "markdown",
   "metadata": {
    "slideshow": {
     "slide_type": "notes"
    }
   },
   "source": [
    "### Цикл for"
   ]
  },
  {
   "cell_type": "code",
   "execution_count": 65,
   "metadata": {},
   "outputs": [
    {
     "name": "stdout",
     "output_type": "stream",
     "text": [
      "peperoni cool and best\n",
      "salyami cool and best\n",
      "four cheese cool and best\n",
      "I really love pizza!\n"
     ]
    }
   ],
   "source": [
    "pizzaz = ['peperoni', 'salyami', 'four cheese']\n",
    "for pizza in pizzaz:\n",
    "    print(pizza + ' cool and best')\n",
    "print('I really love pizza!') "
   ]
  },
  {
   "cell_type": "code",
   "execution_count": 12,
   "metadata": {},
   "outputs": [
    {
     "name": "stdout",
     "output_type": "stream",
     "text": [
      "1\n",
      "1000000\n",
      "500000500000\n"
     ]
    }
   ],
   "source": [
    "j = [i for i in range(1,1000001)]\n",
    "print(min(j))\n",
    "print(max(j))\n",
    "print(sum(j))"
   ]
  },
  {
   "cell_type": "code",
   "execution_count": 32,
   "metadata": {},
   "outputs": [
    {
     "name": "stdout",
     "output_type": "stream",
     "text": [
      "<generator object <genexpr> at 0x7f91237a09e8>\n"
     ]
    }
   ],
   "source": [
    "j = (i**3 for i in range(1,10))\n",
    "print(j)"
   ]
  },
  {
   "cell_type": "code",
   "execution_count": 28,
   "metadata": {},
   "outputs": [
    {
     "name": "stdout",
     "output_type": "stream",
     "text": [
      "(1, 2, 3)\n",
      "6\n"
     ]
    }
   ],
   "source": [
    "ver = (1, 2, 3)\n",
    "print(ver)\n",
    "print(sum(ver))"
   ]
  },
  {
   "cell_type": "markdown",
   "metadata": {},
   "source": [
    "### 5. Команды if-elif-else"
   ]
  },
  {
   "cell_type": "code",
   "execution_count": 61,
   "metadata": {},
   "outputs": [
    {
     "name": "stdout",
     "output_type": "stream",
     "text": [
      "Stop\n"
     ]
    }
   ],
   "source": [
    "alien_color = ['green', 'yellow', 'red']\n",
    "t = input()\n",
    "if t in alien_color:\n",
    "    if t == 'green':\n",
    "        print('5 points')\n",
    "    elif t == 'yellow':\n",
    "        print('10 points')\n",
    "    else:\n",
    "    #elif t == 'red':\n",
    "        print('15 points')\n",
    "else:\n",
    "    print('Stop')"
   ]
  },
  {
   "cell_type": "markdown",
   "metadata": {},
   "source": [
    "### Поиск списка по списку ----------"
   ]
  },
  {
   "cell_type": "code",
   "execution_count": 57,
   "metadata": {},
   "outputs": [
    {
     "name": "stdout",
     "output_type": "stream",
     "text": [
      "Adding mushrooms.\n",
      "Sorry, we don't have french fries.\n",
      "Adding extra cheese.\n",
      "\n",
      "Finished making your pizza!\n"
     ]
    }
   ],
   "source": [
    "available_toppings = ['mushrooms', 'olives', 'green peppers',\n",
    "'pepperoni', 'pineapple', 'extra cheese']\n",
    "requested_toppings = ['mushrooms', 'french fries', 'extra cheese']\n",
    "for requested_topping in requested_toppings:\n",
    "    if requested_topping in available_toppings:\n",
    "        print(\"Adding \" + requested_topping + \".\")\n",
    "    else:\n",
    "        print(\"Sorry, we don't have \" + requested_topping + \".\")\n",
    "print(\"\\nFinished making your pizza!\")"
   ]
  },
  {
   "cell_type": "code",
   "execution_count": 67,
   "metadata": {},
   "outputs": [
    {
     "name": "stdout",
     "output_type": "stream",
     "text": [
      "We need to find some users!\n"
     ]
    }
   ],
   "source": [
    "names = [] # ['Dima', 'Igor', 'admin', 'Serg', 'Alex']\n",
    "if names:  # проверка: список не пустой или нет\n",
    "    for name in names:\n",
    "        if name == 'admin':\n",
    "            print('Hello ' + name + ', would you like to see a status report?')\n",
    "        else:\n",
    "            print('Hello ' + name + ', thank you for logging in again')\n",
    "else:\n",
    "    print('We need to find some users!')"
   ]
  },
  {
   "cell_type": "markdown",
   "metadata": {},
   "source": [
    "5-10. Проверка имен пользователей: выполните следующие действия для создания программы, моделирующей проверку уникальности имен пользователей. Не учитывать регистр."
   ]
  },
  {
   "cell_type": "code",
   "execution_count": null,
   "metadata": {},
   "outputs": [],
   "source": [
    "current_users = ['Dima', 'Igor', 'Kolya', 'Serg', 'Alex']\n",
    "new_users = ['Misha', 'Sasha', 'IGOR', 'Serg', 'Vova', 'Iliya', 'Alex']\n",
    "#print(current_users[0].lower())\n",
    "#print(str(current_users).lower())\n",
    "#print(current_users[1].lower())\n",
    "#print(str(new_users).lower())\n",
    "\n",
    "if current_users:\n",
    "    for new_user in new_users:\n",
    "        fl = False\n",
    "        for current_user in current_users: \n",
    "            #print(new_user.lower()+\" ==\"+ current_user.lower())\n",
    "            if new_user.lower() == current_user.lower():\n",
    "                fl = True\n",
    "                break\n",
    "        if fl:\n",
    "            print(new_user + ' - Bad name, need new name!')        \n",
    "        else:    \n",
    "            print(new_user + ' Your name OK!')"
   ]
  },
  {
   "cell_type": "markdown",
   "metadata": {},
   "source": [
    "5-11. Порядковые числительные: порядковые числительные в английском языке заканчиваются суффиксом th (кроме 1st, 2nd и 3rd)"
   ]
  },
  {
   "cell_type": "code",
   "execution_count": 91,
   "metadata": {},
   "outputs": [
    {
     "name": "stdout",
     "output_type": "stream",
     "text": [
      "1st\n",
      "2nd\n",
      "3rd\n",
      "4th\n",
      "5th\n",
      "6th\n",
      "7th\n",
      "8th\n",
      "9th\n"
     ]
    }
   ],
   "source": [
    "for i in range(1,10):\n",
    "    if i == 1:\n",
    "        print(str(i) + 'st')\n",
    "    elif i == 2:\n",
    "        print(str(i) + 'nd')\n",
    "    elif i == 3:\n",
    "        print(str(i) + 'rd')\n",
    "    else:\n",
    "        print(str(i) + 'th')"
   ]
  },
  {
   "cell_type": "code",
   "execution_count": 19,
   "metadata": {},
   "outputs": [
    {
     "name": "stdout",
     "output_type": "stream",
     "text": [
      "Misha Your name OK!\n",
      "Sasha Your name OK!\n",
      "IGOR - Bad name, need new name!\n",
      "Serg - Bad name, need new name!\n",
      "Vova Your name OK!\n",
      "Iliya Your name OK!\n",
      "Alex - Bad name, need new name!\n"
     ]
    }
   ],
   "source": [
    "current_users = ['Dima', 'Igor', 'Kolya', 'Serg', 'Alex']\n",
    "new_users = ['Misha', 'Sasha', 'IGOR', 'Serg', 'Vova', 'Iliya', 'Alex']\n",
    "#print(current_users[0].lower())\n",
    "#print(str(current_users).lower())\n",
    "#print(current_users[1].lower())\n",
    "#print(str(new_users).lower())\n",
    "\n",
    "if current_users:\n",
    "    for new_user in new_users:\n",
    "        fl = False\n",
    "        for current_user in current_users: \n",
    "            #print(new_user.lower()+\" ==\"+ current_user.lower())\n",
    "            if new_user.lower() == current_user.lower():\n",
    "                fl = True\n",
    "                break\n",
    "        if fl:\n",
    "            print(new_user + ' - Bad name, need new name!')        \n",
    "        else:    \n",
    "            print(new_user + ' Your name OK!')"
   ]
  },
  {
   "cell_type": "code",
   "execution_count": null,
   "metadata": {},
   "outputs": [],
   "source": []
  }
 ],
 "metadata": {
  "kernelspec": {
   "display_name": "Python 3",
   "language": "python",
   "name": "python3"
  },
  "language_info": {
   "codemirror_mode": {
    "name": "ipython",
    "version": 3
   },
   "file_extension": ".py",
   "mimetype": "text/x-python",
   "name": "python",
   "nbconvert_exporter": "python",
   "pygments_lexer": "ipython3",
   "version": "3.6.5"
  }
 },
 "nbformat": 4,
 "nbformat_minor": 2
}
